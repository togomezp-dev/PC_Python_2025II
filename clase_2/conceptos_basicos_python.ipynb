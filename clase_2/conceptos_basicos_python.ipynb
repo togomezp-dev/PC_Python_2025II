{
  "cells": [
    {
      "cell_type": "markdown",
      "metadata": {
        "id": "view-in-github",
        "colab_type": "text"
      },
      "source": [
        "<a href=\"https://colab.research.google.com/github/togomezp-dev/PC_Python_2025II/blob/main/clase_2/conceptos_basicos_python.ipynb\" target=\"_parent\"><img src=\"https://colab.research.google.com/assets/colab-badge.svg\" alt=\"Open In Colab\"/></a>"
      ]
    },
    {
      "cell_type": "markdown",
      "metadata": {
        "id": "IzgNgDSet9OG"
      },
      "source": [
        "# Programación de Computadores en Python\n",
        "## Introducción a conceptos básicos\n",
        "#### Universidad Nacional de Colombia\n",
        "---\n",
        "**Objetivo:** Aprender los fundamentos iniciales de Python, incluyendo el uso de `print`, creación de variables, tipos de datos y operaciones básicas.\n",
        "\n",
        "### 📑 Contenido\n",
        "1. Sentencia `print`\n",
        "2. Creación de variables\n",
        "3. Tipos de datos\n",
        "4. Operaciones entre variables\n",
        "\n",
        "---\n",
        "💡 **Tip:** Recuerda que puedes ejecutar cada celda con `Shift + Enter` en Google Colab."
      ]
    },
    {
      "cell_type": "markdown",
      "metadata": {
        "id": "ZwbtfBCYt9OP"
      },
      "source": [
        "## 1️⃣ Sentencia `print`\n",
        "La función `print()` sirve para mostrar información en pantalla.\n",
        "\n",
        "**Sintaxis básica:**\n",
        "```python\n",
        "print(valor_o_texto)\n",
        "```\n",
        "\n",
        "Puedes imprimir texto, números o el resultado de operaciones."
      ]
    },
    {
      "cell_type": "code",
      "metadata": {
        "colab": {
          "base_uri": "https://localhost:8080/"
        },
        "id": "lchyCM7lt9OP",
        "outputId": "1fed476a-03f8-4db7-86a7-957d808c41c0"
      },
      "source": [
        "# Ejemplos de print\n",
        "print(\"Hola Mundo\")\n",
        "print(42)\n",
        "print(\"El resultado de 2+3 es:\", 2+3)"
      ],
      "execution_count": null,
      "outputs": [
        {
          "output_type": "stream",
          "name": "stdout",
          "text": [
            "Hola Mundo\n",
            "42\n",
            "El resultado de 2+3 es: 5\n"
          ]
        }
      ]
    },
    {
      "cell_type": "markdown",
      "metadata": {
        "id": "g--_ehF5t9OR"
      },
      "source": [
        "### 📝 Ejercicio 1\n",
        "1. Imprime tu nombre.\n",
        "2. Imprime tu edad.\n",
        "3. Imprime la suma de 15 + 8."
      ]
    },
    {
      "cell_type": "code",
      "metadata": {
        "id": "v6nBadbmt9OX",
        "outputId": "f1683362-2fb0-48dd-ec08-e930d6bb0e31",
        "colab": {
          "base_uri": "https://localhost:8080/"
        }
      },
      "source": [
        "# Escribe tu código aquí\n",
        "print(\"Alejandro\")\n",
        "print(18)\n",
        "print(15+8)"
      ],
      "execution_count": 1,
      "outputs": [
        {
          "output_type": "stream",
          "name": "stdout",
          "text": [
            "Alejandro\n",
            "18\n",
            "23\n"
          ]
        }
      ]
    },
    {
      "cell_type": "markdown",
      "metadata": {
        "id": "SV0jxljmt9OX"
      },
      "source": [
        "💡 **Curiosidad:** En Python 3, `print` es una función y necesita paréntesis. En versiones antiguas (Python 2) no era así."
      ]
    },
    {
      "cell_type": "markdown",
      "source": [
        "## 🖋️ Otras formas de hacer `print` con formateo\n",
        "\n",
        "En Python, no solo puedes imprimir texto de forma directa, también puedes **formatear cadenas** para mostrar variables y resultados de forma más elegante y legible.  \n",
        "\n",
        "---\n",
        "\n",
        "### 1️⃣ Concatenación con `+`\n",
        "Une cadenas con `+`. Si vas a unir texto con números, debes convertir los números a cadena con `str()`.  \n",
        "```python\n",
        "nombre = \"Ana\"\n",
        "edad = 25\n",
        "print(\"Hola \" + nombre + \", tienes \" + str(edad) + \" años.\")\n",
        "```\n",
        "### 2️⃣ Comas en `print`\n",
        "Puedes imprimir varios valores separándolos con comas dentro de `print()`. Python convertirá cada elemento a cadena (si hace falta) y los separará con espacios por defecto.\n",
        "```python\n",
        "nombre = \"Ana\"\n",
        "edad = 25\n",
        "print(\"Hola\", nombre, \"tienes\", edad, \"años.\")\n",
        "```\n",
        "### 3️⃣ Método `.format()`\n",
        "El método `.format()` permite insertar valores en posiciones `{}` dentro de una cadena de texto.  \n",
        "Puedes usarlo de forma simple o asignando nombres/índices para mayor claridad.\n",
        "```python\n",
        "nombre = \"Ana\"\n",
        "edad = 25\n",
        "print(\"Hola {}, tienes {} años.\".format(nombre, edad))\n",
        "```\n",
        "### 4️⃣ F-Strings (recomendado en Python 3.6+)\n",
        "Las **f-strings** son la forma más cómoda y legible de formatear cadenas en Python.  \n",
        "Se escriben anteponiendo `f` a la cadena y colocando variables o expresiones dentro de `{}`.\n",
        "```python\n",
        "nombre = \"Ana\"\n",
        "edad = 25\n",
        "print(f\"Hola {nombre}, tienes {edad} años.\")\n",
        "```"
      ],
      "metadata": {
        "id": "OJK27SDYC-rb"
      }
    },
    {
      "cell_type": "markdown",
      "metadata": {
        "id": "lUP9Ni3tt9OX"
      },
      "source": [
        "## 2️⃣ Creación de variables\n",
        "Una variable es un espacio donde puedes guardar un valor para usarlo más adelante.\n",
        "\n",
        "**Reglas:**\n",
        "- El nombre debe comenzar con letra o guion bajo.\n",
        "- No puede contener espacios.\n",
        "- No debe tener caracteres especiales, salvo el guion bajo _\n",
        "- No usar palabras reservadas de Python.\n",
        "- Las variables son sensibles a las mayúsculas, es decir, A es diferente de a\n",
        "\n",
        "**Sintaxis:**\n",
        "```python\n",
        "nombre_variable = valor\n",
        "```"
      ]
    },
    {
      "cell_type": "markdown",
      "source": [
        "### palabras reservadas\n",
        "Python tiene un conjunto de palabras reservadas que no puedes utilizar como nombre de variables:"
      ],
      "metadata": {
        "id": "w3K-NDwmTZxo"
      }
    },
    {
      "cell_type": "code",
      "source": [
        "help(\"keywords\")"
      ],
      "metadata": {
        "colab": {
          "base_uri": "https://localhost:8080/"
        },
        "id": "1iB7ozfiULfv",
        "outputId": "80d18fad-1985-49ca-cf07-0ad5690d154e"
      },
      "execution_count": null,
      "outputs": [
        {
          "output_type": "stream",
          "name": "stdout",
          "text": [
            "\n",
            "Here is a list of the Python keywords.  Enter any keyword to get more help.\n",
            "\n",
            "False               class               from                or\n",
            "None                continue            global              pass\n",
            "True                def                 if                  raise\n",
            "and                 del                 import              return\n",
            "as                  elif                in                  try\n",
            "assert              else                is                  while\n",
            "async               except              lambda              with\n",
            "await               finally             nonlocal            yield\n",
            "break               for                 not                 \n",
            "\n"
          ]
        }
      ]
    },
    {
      "cell_type": "code",
      "metadata": {
        "colab": {
          "base_uri": "https://localhost:8080/"
        },
        "id": "Pm9ZVxhjt9OY",
        "outputId": "aacf35fb-7ff6-4cbf-cdf8-24110d30ec63"
      },
      "source": [
        "# Ejemplo de variables\n",
        "nombre = \"Carlos\"\n",
        "edad = 20\n",
        "pi = 3.1416\n",
        "\n",
        "print(nombre)\n",
        "print(\"Edad:\", edad)\n",
        "print(\"Valor de pi:\", pi)"
      ],
      "execution_count": null,
      "outputs": [
        {
          "output_type": "stream",
          "name": "stdout",
          "text": [
            "Carlos\n",
            "Edad: 20\n",
            "Valor de pi: 3.1416\n"
          ]
        }
      ]
    },
    {
      "cell_type": "markdown",
      "metadata": {
        "id": "HDMmwCRHt9Od"
      },
      "source": [
        "### 📝 Ejercicio 2\n",
        "1. Crea una variable con tu color favorito.\n",
        "2. Crea una variable con tu año de nacimiento.\n",
        "3. Imprime ambas variables."
      ]
    },
    {
      "cell_type": "code",
      "metadata": {
        "id": "bvnzv6Mvt9Oe"
      },
      "source": [
        "# Escribe tu código aquí\n"
      ],
      "execution_count": null,
      "outputs": []
    },
    {
      "cell_type": "markdown",
      "metadata": {
        "id": "q1qP9x-Ht9Of"
      },
      "source": [
        "💡 **Tip:** En Python no necesitas declarar el tipo de variable antes de usarla pero es una buena práctica."
      ]
    },
    {
      "cell_type": "markdown",
      "metadata": {
        "id": "4tn038ENt9Of"
      },
      "source": [
        "## 3️⃣ Tipos de datos\n",
        "Python tiene varios tipos de datos básicos:\n",
        "- **int**: números enteros (`5`, `-3`, `100`)\n",
        "- **float**: números decimales (`3.14`, `-0.5`)\n",
        "- **complex**: números complejos (`2+5j`, `5+7j`)\n",
        "- **str**: cadenas de texto (`\"Hola\"`, `'Python'`)\n",
        "- **bool**: valores lógicos (`True`, `False`)\n",
        "- **NoneType**: valores nulos (`None`)\n",
        "\n",
        "Puedes saber el tipo de una variable con `type()`."
      ]
    },
    {
      "cell_type": "code",
      "metadata": {
        "colab": {
          "base_uri": "https://localhost:8080/"
        },
        "id": "0FC4hC1-t9Ok",
        "outputId": "cad71f66-d7d9-4417-f8f4-d78055146724"
      },
      "source": [
        "# Ejemplo de tipos de datos\n",
        "a = 10\n",
        "b = 3.5\n",
        "c = 2+5j\n",
        "d = \"Python\"\n",
        "e = True\n",
        "f = None\n",
        "\n",
        "print(type(a))\n",
        "print(type(b))\n",
        "print(type(c))\n",
        "print(type(d))\n",
        "print(type(e))\n",
        "print(type(f))"
      ],
      "execution_count": null,
      "outputs": [
        {
          "output_type": "stream",
          "name": "stdout",
          "text": [
            "<class 'int'>\n",
            "<class 'float'>\n",
            "<class 'complex'>\n",
            "<class 'str'>\n",
            "<class 'bool'>\n",
            "<class 'NoneType'>\n"
          ]
        }
      ]
    },
    {
      "cell_type": "markdown",
      "source": [
        "#### Notación científica para los flotantes"
      ],
      "metadata": {
        "id": "ReMD0u7BVF48"
      }
    },
    {
      "cell_type": "code",
      "source": [
        "flotante = 0.0005\n",
        "flotante_not_cient = 5e-4\n",
        "print(f\"El flotante {flotante} en notación científica es {flotante_not_cient}\")"
      ],
      "metadata": {
        "colab": {
          "base_uri": "https://localhost:8080/"
        },
        "id": "oMCZvfwZVLUP",
        "outputId": "7eac03a7-40d3-44d1-c57c-32c9bc88379a"
      },
      "execution_count": null,
      "outputs": [
        {
          "output_type": "stream",
          "name": "stdout",
          "text": [
            "El flotante 0.0005 en notación científica es 0.0005\n"
          ]
        }
      ]
    },
    {
      "cell_type": "code",
      "source": [
        "flotante = 2500.0\n",
        "flotante_not_cient = 25e2\n",
        "print(f\"El flotante {flotante} en notación científica es {flotante_not_cient}\")"
      ],
      "metadata": {
        "colab": {
          "base_uri": "https://localhost:8080/"
        },
        "id": "4irJqNn6VL9K",
        "outputId": "6f9953d3-94e6-4728-9d2c-b480b1088e65"
      },
      "execution_count": null,
      "outputs": [
        {
          "output_type": "stream",
          "name": "stdout",
          "text": [
            "El flotante 2500.0 en notación científica es 2500.0\n"
          ]
        }
      ]
    },
    {
      "cell_type": "markdown",
      "source": [
        "## Especificar el tipo de dato al crear variables\n",
        "\n",
        "En Python, el **tipo de dato** normalmente se asigna automáticamente dependiendo del valor que le des a la variable (esto se llama *tipado dinámico*).  \n",
        "Sin embargo, también puedes **indicar explícitamente** el tipo de dato que quieres, lo cual es útil para mayor claridad o control.\n",
        "\n",
        "---\n",
        "\n",
        "### 📌 Asignación automática (tipado dinámico)\n",
        "```python\n",
        "x = 10         # int\n",
        "y = 3.14       # float\n",
        "nombre = \"Ana\" # str\n",
        "activo = True  # bool\n",
        "```\n",
        "\n",
        "### 📌 Conversión explícita (casting)\n",
        "Puedes usar funciones constructoras para especificar el tipo desde el inicio:\n",
        "```python\n",
        "edad = int(25)        # entero\n",
        "altura = float(1.75)  # decimal\n",
        "nombre = str(\"Luis\")  # cadena\n",
        "activo = bool(True)   # booleano\n",
        "```\n",
        "\n",
        "### 📌 Anotaciones de tipo (type hints)\n",
        "Desde Python 3.5+, puedes anotar el tipo esperado.\n",
        "Esto no fuerza el tipo, pero ayuda a documentar el código y trabajar mejor con herramientas.\n",
        "```python\n",
        "edad: int = 25\n",
        "altura: float = 1.75\n",
        "nombre: str = \"Luis\"\n",
        "activo: bool = True\n",
        "```"
      ],
      "metadata": {
        "id": "Np3yUVs4MMU7"
      }
    },
    {
      "cell_type": "markdown",
      "metadata": {
        "id": "YZSybPhQt9Ol"
      },
      "source": [
        "### 📝 Ejercicio 3\n",
        "1. Crea 4 variables: una entera, una decimal, una cadena y un booleano.\n",
        "2. Imprime el valor y el tipo de cada una."
      ]
    },
    {
      "cell_type": "code",
      "metadata": {
        "id": "J_B-UGmct9Ol"
      },
      "source": [
        "# Escribe tu código aquí\n"
      ],
      "execution_count": null,
      "outputs": []
    },
    {
      "cell_type": "markdown",
      "metadata": {
        "id": "KIY4brL-t9Ol"
      },
      "source": [
        "💡 **Dato curioso:** Python puede manejar enteros de cualquier tamaño, incluso números más grandes que en otros lenguajes."
      ]
    },
    {
      "cell_type": "markdown",
      "metadata": {
        "id": "7OUfbzsrt9Oq"
      },
      "source": [
        "## 4️⃣ Operaciones entre variables\n",
        "Puedes realizar operaciones matemáticas y de concatenación.\n",
        "\n",
        "### Operaciones matemáticas con números\n",
        "- Suma: `+`\n",
        "- Resta: `-`\n",
        "- Multiplicación: `*`\n",
        "- División: `/`\n",
        "- División entera: `//`\n",
        "- Módulo (resto): `%`\n",
        "- Potencia: `**`\n",
        "\n",
        "### Orden de las operaciones\n",
        "La ejecución de las operaciones se da según el nivel de precedencia. Cuando hay dos o más operaciones del mismo nivel, se realizan de izquierda a derecha. Para la exponenciación es de derecha a izquierda.\n",
        "\n",
        "| Tipo                     | Operador | Precedencia |\n",
        "|--------------------------|----------|-------------|\n",
        "| Paréntesis               | ()       | 1           |\n",
        "| Exponenciación           | **       | 2           |\n",
        "| Cambio de signo          | - +      | 3           |\n",
        "| Multiplicación           | *        | 4           |\n",
        "| División                 | /        | 4           |\n",
        "| División entera          | //       | 4           |\n",
        "| Módulo (o resto)         | %        | 4           |\n",
        "| Suma                     | +        | 5           |\n",
        "| Resta                    | -        | 5           |"
      ]
    },
    {
      "cell_type": "code",
      "metadata": {
        "colab": {
          "base_uri": "https://localhost:8080/"
        },
        "id": "oYOVaJrZt9Oq",
        "outputId": "a5cb9712-a9f1-4572-9aa3-c52c48474c0d"
      },
      "source": [
        "# Ejemplo con números\n",
        "x = 8\n",
        "y = 3\n",
        "\n",
        "print(\"Suma:\", x + y)\n",
        "print(\"Resta:\", x - y)\n",
        "print(\"Multiplicación:\", x * y)\n",
        "print(\"División:\", x / y)\n",
        "print(\"División entera:\", x // y)\n",
        "print(\"Módulo:\", x % y)\n",
        "print(\"Potencia:\", x ** y)"
      ],
      "execution_count": null,
      "outputs": [
        {
          "output_type": "stream",
          "name": "stdout",
          "text": [
            "Suma: 11\n",
            "Resta: 5\n",
            "Multiplicación: 24\n",
            "División: 2.6666666666666665\n",
            "División entera: 2\n",
            "Módulo: 2\n",
            "Potencia: 512\n"
          ]
        }
      ]
    },
    {
      "cell_type": "markdown",
      "metadata": {
        "id": "Frg_-oVnt9Oq"
      },
      "source": [
        "### Concatenación de cadenas\n",
        "Se hace usando `+` para unir cadenas o `*` para repetirlas."
      ]
    },
    {
      "cell_type": "code",
      "metadata": {
        "colab": {
          "base_uri": "https://localhost:8080/"
        },
        "id": "B7w0aWUqt9Oq",
        "outputId": "c7fa8609-86a3-437a-f6ef-775f8ec086fb"
      },
      "source": [
        "# Ejemplo de concatenación\n",
        "texto1 = \"Hola\"\n",
        "texto2 = \"Mundo\"\n",
        "\n",
        "print(texto1 + \" \" + texto2)\n",
        "print(texto1 * 3)"
      ],
      "execution_count": null,
      "outputs": [
        {
          "output_type": "stream",
          "name": "stdout",
          "text": [
            "Hola Mundo\n",
            "HolaHolaHola\n"
          ]
        }
      ]
    },
    {
      "cell_type": "markdown",
      "metadata": {
        "id": "4PjPFfCst9Or"
      },
      "source": [
        "### 📝 Ejercicio 4\n",
        "1. Crea dos números y realiza todas las operaciones básicas.\n",
        "2. Crea dos cadenas y únelas con un espacio.\n",
        "3. Repite una cadena 5 veces."
      ]
    },
    {
      "cell_type": "code",
      "metadata": {
        "id": "N7ugcPD6t9Or"
      },
      "source": [
        "# Escribe tu código aquí\n"
      ],
      "execution_count": null,
      "outputs": []
    },
    {
      "cell_type": "markdown",
      "source": [
        "## 5️⃣ Entrada y salida\n",
        "#### Saltos de línea y comillas\n",
        "* Si queremos imprimir varias líneas de texto agregamos ``\\n``"
      ],
      "metadata": {
        "id": "IoEXwF27WHDY"
      }
    },
    {
      "cell_type": "code",
      "source": [
        "print(\"Hoy es\", 8, \"de abril\", \"\\nDel año\", 2025)"
      ],
      "metadata": {
        "colab": {
          "base_uri": "https://localhost:8080/"
        },
        "id": "ARazoR52XGRN",
        "outputId": "4d373505-6129-4769-db6e-7baa39021ed5"
      },
      "execution_count": null,
      "outputs": [
        {
          "output_type": "stream",
          "name": "stdout",
          "text": [
            "Hoy es 8 de abril \n",
            "Del año 2025\n"
          ]
        }
      ]
    },
    {
      "cell_type": "markdown",
      "source": [
        "* Si queremos utilizar comillas dobles usamos ``\\\"``"
      ],
      "metadata": {
        "id": "3sYc7SbNXHew"
      }
    },
    {
      "cell_type": "code",
      "source": [
        "print(\"\\\"Así se utilizan las comillas dobles\\\"\")"
      ],
      "metadata": {
        "colab": {
          "base_uri": "https://localhost:8080/"
        },
        "id": "lbaceqOAXNTD",
        "outputId": "9967a00c-1df8-4fa7-f34d-e9a7c63589f8"
      },
      "execution_count": null,
      "outputs": [
        {
          "output_type": "stream",
          "name": "stdout",
          "text": [
            "\"Así se utilizan las comillas dobles\"\n"
          ]
        }
      ]
    },
    {
      "cell_type": "markdown",
      "source": [
        "#### Manejo de ``print`` con variables\n",
        "* Con operador ``%``"
      ],
      "metadata": {
        "id": "o-kodetvXQ1Y"
      }
    },
    {
      "cell_type": "code",
      "source": [
        "print(\"Numero entero: %d \\nNumero: flotante %.2f \\nCadena: %s\"%(12, 3.1415, \"Hola\"))"
      ],
      "metadata": {
        "colab": {
          "base_uri": "https://localhost:8080/"
        },
        "id": "oZQYtMRRXc7i",
        "outputId": "f3bfd675-faef-44ef-d559-e3a70e1f4976"
      },
      "execution_count": null,
      "outputs": [
        {
          "output_type": "stream",
          "name": "stdout",
          "text": [
            "Numero entero: 12 \n",
            "Numero: flotante 3.14 \n",
            "Cadena: Hola\n"
          ]
        }
      ]
    },
    {
      "cell_type": "markdown",
      "source": [
        "### Ingreso de datos\n",
        "Para ingresar datos y asignarlos a una variable, se debe utilizar la sentencia ``input``."
      ],
      "metadata": {
        "id": "MeiyPcQjXprV"
      }
    },
    {
      "cell_type": "code",
      "source": [
        "ingreso = input(\"Ingrese el país \")\n",
        "print(\"Eres de\", ingreso)"
      ],
      "metadata": {
        "colab": {
          "base_uri": "https://localhost:8080/"
        },
        "id": "8l_MuhiyXwrF",
        "outputId": "75821ba9-58ad-4a87-e30e-3d81e9192531"
      },
      "execution_count": null,
      "outputs": [
        {
          "output_type": "stream",
          "name": "stdout",
          "text": [
            "Ingrese el país Colombia\n",
            "Eres de Colombia\n"
          ]
        }
      ]
    },
    {
      "cell_type": "markdown",
      "source": [
        "También se puede con cualquier tipo de dato."
      ],
      "metadata": {
        "id": "99ZG1sc7X15X"
      }
    },
    {
      "cell_type": "code",
      "source": [
        "pais = input(\"Ingrese el país: \")\n",
        "fecha_1 = int(input(\"Ingrese día: \"))\n",
        "fecha_2 = input(\"Ingrese mes: \")\n",
        "fecha_3 = int(input(\"Ingrese año: \"))\n",
        "print(f\"En Colombia es {fecha_1} de {fecha_2} del {fecha_3}.\")"
      ],
      "metadata": {
        "colab": {
          "base_uri": "https://localhost:8080/"
        },
        "id": "zbX6d1AKX4SC",
        "outputId": "a3e44300-682e-44b9-ce3b-06cec7439931"
      },
      "execution_count": null,
      "outputs": [
        {
          "output_type": "stream",
          "name": "stdout",
          "text": [
            "Ingrese el país: Colombia\n",
            "Ingrese día: 7\n",
            "Ingrese mes: junio\n",
            "Ingrese año: 2025\n",
            "En Colombia es 7 de junio del 2025.\n"
          ]
        }
      ]
    },
    {
      "cell_type": "code",
      "source": [
        "print(type(pais), type(fecha_1), type(fecha_2), type(fecha_3))"
      ],
      "metadata": {
        "colab": {
          "base_uri": "https://localhost:8080/"
        },
        "id": "DqbCUCFBYES9",
        "outputId": "22cf350b-663e-4fac-dfac-18f27b039f73"
      },
      "execution_count": null,
      "outputs": [
        {
          "output_type": "stream",
          "name": "stdout",
          "text": [
            "<class 'str'> <class 'int'> <class 'str'> <class 'int'>\n"
          ]
        }
      ]
    },
    {
      "cell_type": "markdown",
      "source": [
        "### Comentarios\n",
        "* Los comentarios permiten explicar el código, lo cual es importante si se trabaja en equipo.\n",
        "* Se realizan usualmente con un ``#``, aunque con comillas dobles se puede extender en varias líneas."
      ],
      "metadata": {
        "id": "8UQmZHquYGmt"
      }
    },
    {
      "cell_type": "code",
      "source": [
        "# Este es un comentario\n",
        "# --- El siguiente código realiza la potencia a^n\n",
        "# Sojnghiofngohif\n",
        "a = int(input(\"Ingrese base: \")) # variable b\n",
        "n = int(input(\"Ingrese exponente: \"))\n",
        "print(f\"El resultado es {a**n}\")"
      ],
      "metadata": {
        "colab": {
          "base_uri": "https://localhost:8080/"
        },
        "id": "LpTqd7q2YPNj",
        "outputId": "75414656-f34a-4dc1-e9ee-de6887f7e4cb"
      },
      "execution_count": null,
      "outputs": [
        {
          "output_type": "stream",
          "name": "stdout",
          "text": [
            "Ingrese base: 5\n",
            "Ingrese exponente: 6\n",
            "El resultado es 15625\n"
          ]
        }
      ]
    },
    {
      "cell_type": "code",
      "source": [
        "\"\"\"\n",
        "Este es un comentario extendido en varias lineas\n",
        "\n",
        "El siguiente código realiza la potencia a^n\n",
        "higjohijghio\n",
        "\n",
        "\"\"\"\n",
        "a = int(input(\"Ingrese base: \"))\n",
        "n = int(input(\"Ingrese exponente: \"))\n",
        "print(f\"El resultado es {a**n}\")"
      ],
      "metadata": {
        "colab": {
          "base_uri": "https://localhost:8080/"
        },
        "id": "AlSRMNCAYUNy",
        "outputId": "c427741b-f049-4988-d490-1c7bebed679f"
      },
      "execution_count": null,
      "outputs": [
        {
          "output_type": "stream",
          "name": "stdout",
          "text": [
            "Ingrese base: 5\n",
            "Ingrese exponente: 6\n",
            "El resultado es 15625\n"
          ]
        }
      ]
    },
    {
      "cell_type": "markdown",
      "source": [
        "## 6️⃣ Errores y depuración\n",
        "### Error de sintáxis\n",
        "Son errores en la estructura del código que son alertados inmediatamente previos a la ejecución."
      ],
      "metadata": {
        "id": "I0NamsaaYfJN"
      }
    },
    {
      "cell_type": "code",
      "source": [
        "suma = (1 + 2\n",
        "print(suma)"
      ],
      "metadata": {
        "colab": {
          "base_uri": "https://localhost:8080/",
          "height": 106
        },
        "id": "RITBd1AlYpr_",
        "outputId": "bc8b08dc-add9-4d21-b9fa-d2ced9fefb63"
      },
      "execution_count": null,
      "outputs": [
        {
          "output_type": "error",
          "ename": "SyntaxError",
          "evalue": "'(' was never closed (ipython-input-1230951632.py, line 1)",
          "traceback": [
            "\u001b[0;36m  File \u001b[0;32m\"/tmp/ipython-input-1230951632.py\"\u001b[0;36m, line \u001b[0;32m1\u001b[0m\n\u001b[0;31m    suma = (1 + 2\u001b[0m\n\u001b[0m           ^\u001b[0m\n\u001b[0;31mSyntaxError\u001b[0m\u001b[0;31m:\u001b[0m '(' was never closed\n"
          ]
        }
      ]
    },
    {
      "cell_type": "markdown",
      "source": [
        "### Error de tiempo de ejecución (runtime)\n",
        "Son errores que solo son alertados cuando el código es ejecutado."
      ],
      "metadata": {
        "id": "ffvvyX7gYrcs"
      }
    },
    {
      "cell_type": "code",
      "source": [
        "numerador = 10\n",
        "denominador = 0\n",
        "resultado = numerador / denominador  # Genera un error ZeroDivisionError en la ejecución\n",
        "print(resultado)"
      ],
      "metadata": {
        "colab": {
          "base_uri": "https://localhost:8080/",
          "height": 193
        },
        "id": "IxuPgJTvYwha",
        "outputId": "c750e20e-3356-4a7e-9805-1e39d46bfdd5"
      },
      "execution_count": null,
      "outputs": [
        {
          "output_type": "error",
          "ename": "ZeroDivisionError",
          "evalue": "division by zero",
          "traceback": [
            "\u001b[0;31m---------------------------------------------------------------------------\u001b[0m",
            "\u001b[0;31mZeroDivisionError\u001b[0m                         Traceback (most recent call last)",
            "\u001b[0;32m/tmp/ipython-input-1804845617.py\u001b[0m in \u001b[0;36m<cell line: 0>\u001b[0;34m()\u001b[0m\n\u001b[1;32m      1\u001b[0m \u001b[0mnumerador\u001b[0m \u001b[0;34m=\u001b[0m \u001b[0;36m10\u001b[0m\u001b[0;34m\u001b[0m\u001b[0;34m\u001b[0m\u001b[0m\n\u001b[1;32m      2\u001b[0m \u001b[0mdenominador\u001b[0m \u001b[0;34m=\u001b[0m \u001b[0;36m0\u001b[0m\u001b[0;34m\u001b[0m\u001b[0;34m\u001b[0m\u001b[0m\n\u001b[0;32m----> 3\u001b[0;31m \u001b[0mresultado\u001b[0m \u001b[0;34m=\u001b[0m \u001b[0mnumerador\u001b[0m \u001b[0;34m/\u001b[0m \u001b[0mdenominador\u001b[0m  \u001b[0;31m# Genera un error ZeroDivisionError en la ejecución\u001b[0m\u001b[0;34m\u001b[0m\u001b[0;34m\u001b[0m\u001b[0m\n\u001b[0m\u001b[1;32m      4\u001b[0m \u001b[0mprint\u001b[0m\u001b[0;34m(\u001b[0m\u001b[0mresultado\u001b[0m\u001b[0;34m)\u001b[0m\u001b[0;34m\u001b[0m\u001b[0;34m\u001b[0m\u001b[0m\n",
            "\u001b[0;31mZeroDivisionError\u001b[0m: division by zero"
          ]
        }
      ]
    },
    {
      "cell_type": "markdown",
      "source": [
        "### Error semántico\n",
        "Son errores de significado que el programador realiza en el código que no son alertados en la ejecución y pasan desapercibidos."
      ],
      "metadata": {
        "id": "w7A-sWPrYz1c"
      }
    },
    {
      "cell_type": "code",
      "source": [
        "a = 10\n",
        "b = 6\n",
        "resultado = a * b\n",
        "print(f\"El resultado de la suma es: {resultado}\")  # Esto mostrará 60 en lugar de 16"
      ],
      "metadata": {
        "colab": {
          "base_uri": "https://localhost:8080/"
        },
        "id": "kacGq36UY4UJ",
        "outputId": "f1149f1e-c7d6-466a-c7c8-e6aaa0fdba65"
      },
      "execution_count": null,
      "outputs": [
        {
          "output_type": "stream",
          "name": "stdout",
          "text": [
            "El resultado de la suma es: 60\n"
          ]
        }
      ]
    },
    {
      "cell_type": "markdown",
      "source": [
        "## ✏ Ejercicios"
      ],
      "metadata": {
        "id": "WJ8DqR5pSZvk"
      }
    },
    {
      "cell_type": "markdown",
      "source": [
        "#### a) Evalúa a mano las siguientes expresiones, luego verifícalas con código:\n",
        "\n",
        "* 6 * 5\n",
        "* 4 ** 3\n",
        "* 62 / 13\n",
        "* 62 // 13\n",
        "* 12 % 12\n",
        "* 36 % 5"
      ],
      "metadata": {
        "id": "uPeOng7zSgJt"
      }
    },
    {
      "cell_type": "code",
      "source": [
        "\"\"\"\n",
        "Aquí debajo escribe tu solución c:\n",
        "\"\"\"\n"
      ],
      "metadata": {
        "id": "UsKO8LynSiZ7"
      },
      "execution_count": null,
      "outputs": []
    },
    {
      "cell_type": "markdown",
      "source": [
        "#### b) Evalúa el orden de las siguientes operaciones matemáticas, luego verifícalas con código:\n",
        "\n",
        "* 4**2 - (9 / 3) + 1\n",
        "* (3 + 15) / 6 * 2**3\n",
        "* 20 % 3 + 5 * (40 // 7)"
      ],
      "metadata": {
        "id": "382PihJqSk20"
      }
    },
    {
      "cell_type": "code",
      "source": [
        "\"\"\"\n",
        "Aquí debajo escribe tu solución c:\n",
        "\"\"\"\n"
      ],
      "metadata": {
        "id": "LerKoc8cSqat"
      },
      "execution_count": null,
      "outputs": []
    },
    {
      "cell_type": "markdown",
      "source": [
        "#### c) Calcula el volumen de una esfera con un diametro $d = 9 \\text{ cm}$ utilizando la fórmula de $V = \\frac{4}{3} \\pi r^{3}$"
      ],
      "metadata": {
        "id": "bWhwZ2wbSu0L"
      }
    },
    {
      "cell_type": "code",
      "source": [
        "\"\"\"\n",
        "Aquí debajo escribe tu solución c:\n",
        "\"\"\"\n"
      ],
      "metadata": {
        "id": "RH-iIv-wSyVw"
      },
      "execution_count": null,
      "outputs": []
    },
    {
      "cell_type": "markdown",
      "source": [
        "#### d) Supón que el precio en una tienda en línea para un libro de cálculo es de \\$125.000, pero se encuentra en oferta con un descuento del 25\\%. Pero la tienda hace un cargo para el envío de \\$5.000 para la primera unidad y de \\$500 para cada adicional. ¿Cuál es el costo total para 35 copias?"
      ],
      "metadata": {
        "id": "ypRpmm3eS0mf"
      }
    },
    {
      "cell_type": "code",
      "source": [
        "\"\"\"\n",
        "Aquí debajo escribe tu solución c:\n",
        "\"\"\"\n"
      ],
      "metadata": {
        "id": "KlTDImmZS1DT"
      },
      "execution_count": null,
      "outputs": []
    }
  ],
  "metadata": {
    "colab": {
      "provenance": [],
      "include_colab_link": true
    },
    "kernelspec": {
      "display_name": "Python 3",
      "language": "python",
      "name": "python3"
    },
    "language_info": {
      "name": "python"
    }
  },
  "nbformat": 4,
  "nbformat_minor": 0
}